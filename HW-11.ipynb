{
 "cells": [
  {
   "cell_type": "markdown",
   "id": "57e35f4c",
   "metadata": {},
   "source": [
    "f(x) = x**2 - 6*abs(x) + 8\n",
    "\n",
    "Определить корни"
   ]
  },
  {
   "cell_type": "code",
   "execution_count": 1,
   "id": "75443dbb",
   "metadata": {},
   "outputs": [
    {
     "data": {
      "text/plain": [
       "[-4, -2, 2, 4]"
      ]
     },
     "execution_count": 1,
     "metadata": {},
     "output_type": "execute_result"
    }
   ],
   "source": [
    "from sympy import *\n",
    "x = Symbol('x', real = True)\n",
    "y = x**2 - 6*abs(x) + 8\n",
    "solve(y,x)"
   ]
  },
  {
   "cell_type": "markdown",
   "id": "c0c0ab4f",
   "metadata": {},
   "source": [
    "Найти интервалы, на которых функция возрастает\n",
    "\n",
    "Найти интервалы, на которых функция убывает"
   ]
  },
  {
   "cell_type": "code",
   "execution_count": 2,
   "id": "f20a80af",
   "metadata": {},
   "outputs": [
    {
     "name": "stdout",
     "output_type": "stream",
     "text": [
      "функция убывает на промежутке Interval(-10, -3)\n",
      "функция возрастает на промежутке Interval(-3, 0)\n",
      "функция убывает на промежутке Interval(0, 3)\n",
      "функция возрастает на промежутке Interval(3, 10)\n"
     ]
    }
   ],
   "source": [
    "y1 = x**2 + 6*x + 8\n",
    "y2 = x**2 - 6*x + 8\n",
    "func1 = diff(y1)\n",
    "func2 = diff(y2)\n",
    "roots1 = solve(func1)\n",
    "roots2 = solve(func2)\n",
    "\n",
    "if len(roots1) == 1:\n",
    "    root1 = roots1.pop()\n",
    "    if is_increasing(y1, Interval(-10, root1)):\n",
    "        print(f'функция возрастает на промежутке {Interval(-10, root1)}')\n",
    "    else:\n",
    "        print(f'функция убывает на промежутке {Interval(-10, root1)}')\n",
    "    if is_decreasing(y1, Interval(root1, 0)):\n",
    "        print(f'функция убывает на промежутке {Interval(root1, 0)}')\n",
    "    else:\n",
    "        print(f'функция возрастает на промежутке {Interval(root1, 0)}')\n",
    "         \n",
    "    root2 = roots2.pop()\n",
    "    if is_increasing(y2, Interval(0, root2)):\n",
    "        print(f'функция возрастает на промежутке {Interval(0, root2)}')\n",
    "    else:\n",
    "        print(f'функция убывает на промежутке {Interval(0, root2)}')\n",
    "    if is_decreasing(y2, Interval(root2, 10)):\n",
    "        print(f'функция убывает на промежутке {Interval(root2, 10)}')\n",
    "    else:\n",
    "        print(f'функция возрастает на промежутке {Interval(root2, 10)}')\n",
    "         "
   ]
  },
  {
   "cell_type": "markdown",
   "id": "f3d5ea2f",
   "metadata": {},
   "source": [
    "График"
   ]
  },
  {
   "cell_type": "code",
   "execution_count": 3,
   "id": "2b28dd61",
   "metadata": {},
   "outputs": [
    {
     "data": {
      "image/png": "[encoded data removed]",
      "text/plain": [
       "<Figure size 432x288 with 1 Axes>"
      ]
     },
     "metadata": {
      "needs_background": "light"
     },
     "output_type": "display_data"
    }
   ],
   "source": [
    "g = plot(y,(x,-10,10))"
   ]
  },
  {
   "cell_type": "markdown",
   "id": "d7581f21",
   "metadata": {},
   "source": [
    "Вычислить вершину"
   ]
  },
  {
   "cell_type": "code",
   "execution_count": 4,
   "id": "e0a18b74",
   "metadata": {},
   "outputs": [
    {
     "data": {
      "text/plain": [
       "[-3]"
      ]
     },
     "execution_count": 4,
     "metadata": {},
     "output_type": "execute_result"
    }
   ],
   "source": [
    "v1 = diff(y1)\n",
    "solve(v1)"
   ]
  },
  {
   "cell_type": "code",
   "execution_count": 5,
   "id": "48c0dabd",
   "metadata": {},
   "outputs": [
    {
     "data": {
      "text/plain": [
       "[3]"
      ]
     },
     "execution_count": 5,
     "metadata": {},
     "output_type": "execute_result"
    }
   ],
   "source": [
    "v2 = diff(y2)\n",
    "solve(v2)"
   ]
  },
  {
   "cell_type": "code",
   "execution_count": 6,
   "id": "c4ae8f88",
   "metadata": {},
   "outputs": [
    {
     "data": {
      "text/latex": [
       "$\\displaystyle 8.0$"
      ],
      "text/plain": [
       "8.00000000000000"
      ]
     },
     "execution_count": 6,
     "metadata": {},
     "output_type": "execute_result"
    }
   ],
   "source": [
    "y.evalf(subs={x:0}) #тчка перелома"
   ]
  },
  {
   "cell_type": "markdown",
   "id": "c5dfd6b3",
   "metadata": {},
   "source": [
    "Определить промежутки, на котором f > 0\n",
    "\n",
    "Определить промежутки, на котором f < 0"
   ]
  },
  {
   "cell_type": "code",
   "execution_count": 7,
   "id": "0504f056",
   "metadata": {},
   "outputs": [
    {
     "name": "stdout",
     "output_type": "stream",
     "text": [
      "Функция > 0 на диапазоне range(-10, -4)\n",
      "Функция < 0 на диапазоне range(-4, -2)\n",
      "Функция > 0 на диапазоне range(-2, 2)\n",
      "Функция < 0 на диапазоне range(2, 4)\n",
      "Функция > 0 на диапазоне range(4, 10)\n"
     ]
    }
   ],
   "source": [
    "d1 = range(-10,-4)\n",
    "d2 = range(-4,-2)\n",
    "d3 = range(-2,2)\n",
    "d4 = range(2,4)\n",
    "d5 = range(4,10)\n",
    "lst = [d1,d2,d3,d4,d5]\n",
    "for i in lst:\n",
    "    if y.evalf(subs={x:((i[0]+i[1])/2)}) > 0:\n",
    "        print(f'Функция > 0 на диапазоне {i}')\n",
    "    else:\n",
    "        print(f'Функция < 0 на диапазоне {i}')"
   ]
  }
 ],
 "metadata": {
  "kernelspec": {
   "display_name": "Python 3 (ipykernel)",
   "language": "python",
   "name": "python3"
  },
  "language_info": {
   "codemirror_mode": {
    "name": "ipython",
    "version": 3
   },
   "file_extension": ".py",
   "mimetype": "text/x-python",
   "name": "python",
   "nbconvert_exporter": "python",
   "pygments_lexer": "ipython3",
   "version": "3.9.12"
  }
 },
 "nbformat": 4,
 "nbformat_minor": 5
}
